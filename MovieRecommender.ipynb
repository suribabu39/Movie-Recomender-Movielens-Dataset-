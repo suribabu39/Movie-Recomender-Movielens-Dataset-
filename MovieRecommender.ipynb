{
 "cells": [
  {
   "cell_type": "code",
   "execution_count": 1,
   "metadata": {
    "collapsed": true
   },
   "outputs": [],
   "source": [
    "import pandas as pd\n",
    "import numpy as np\n",
    "from numpy import *\n",
    "from sklearn.neighbors import KNeighborsRegressor\n",
    "from sklearn.metrics import mean_squared_error\n",
    "import matplotlib.pyplot as plt\n",
    "from scipy.stats.stats import pearsonr\n",
    "import re\n",
    "import datetime\n",
    "from math import sqrt\n",
    "from __future__ import division\n",
    "from enum import Enum\n",
    "import math"
   ]
  },
  {
   "cell_type": "code",
   "execution_count": 2,
   "metadata": {
    "collapsed": true
   },
   "outputs": [],
   "source": [
    "movies = pd.read_csv(\"Dataset/ml-latest-small/movies.csv\")\n",
    "ratings = pd.read_csv(\"Dataset/ml-latest-small/ratings.csv\")"
   ]
  },
  {
   "cell_type": "code",
   "execution_count": 3,
   "metadata": {
    "collapsed": false
   },
   "outputs": [],
   "source": [
    "ratings = ratings.drop(['timestamp'],axis=1)\n",
    "movies = movies.drop(['genres'],axis=1)\n",
    "overall_ratings = ratings.groupby(['movieId'],as_index=False).agg({\"rating\": np.mean, \"userId\": pd.Series.nunique})\n",
    "overall_ratings = overall_ratings.rename(columns={\"rating\": \"total_avg_rating\",\"userId\": \"total_num_rating\"})\n",
    "movies = pd.merge(movies,overall_ratings,on=['movieId'])"
   ]
  },
  {
   "cell_type": "code",
   "execution_count": 4,
   "metadata": {
    "collapsed": false
   },
   "outputs": [],
   "source": [
    "col = list(ratings.columns)\n",
    "x = col[:]\n",
    "x.remove('rating')\n",
    "y = 'rating'"
   ]
  },
  {
   "cell_type": "code",
   "execution_count": 15,
   "metadata": {
    "collapsed": false
   },
   "outputs": [
    {
     "name": "stdout",
     "output_type": "stream",
     "text": [
      "(85024, 3)\n",
      "(14980, 3)\n"
     ]
    }
   ],
   "source": [
    "split = np.random.rand(len(ratings)) < 0.85\n",
    "trainDf = ratings[split]\n",
    "testDf = ratings[~split]\n",
    "print trainDf.shape\n",
    "print testDf.shape"
   ]
  },
  {
   "cell_type": "code",
   "execution_count": 16,
   "metadata": {
    "collapsed": false
   },
   "outputs": [
    {
     "name": "stdout",
     "output_type": "stream",
     "text": [
      "2017-10-03 07:33:17.024446\n",
      "2017-10-03 07:33:17.140075\n"
     ]
    }
   ],
   "source": [
    "print datetime.datetime.now()\n",
    "knn = KNeighborsRegressor(n_neighbors=5)\n",
    "knn.fit(trainDf[x],trainDf[y])\n",
    "print datetime.datetime.now()"
   ]
  },
  {
   "cell_type": "code",
   "execution_count": 18,
   "metadata": {
    "collapsed": false
   },
   "outputs": [
    {
     "name": "stdout",
     "output_type": "stream",
     "text": [
      "2017-10-03 07:35:05.902541\n",
      "2017-10-03 07:35:06.215674\n"
     ]
    }
   ],
   "source": [
    "print datetime.datetime.now()\n",
    "train_result = knn.predict(trainDf[x])\n",
    "test_result = knn.predict(testDf[x])\n",
    "print datetime.datetime.now()"
   ]
  },
  {
   "cell_type": "code",
   "execution_count": 19,
   "metadata": {
    "collapsed": false
   },
   "outputs": [
    {
     "data": {
      "text/plain": [
       "1.0825244318385474"
      ]
     },
     "execution_count": 19,
     "metadata": {},
     "output_type": "execute_result"
    }
   ],
   "source": [
    "testDf = testDf.reset_index()\n",
    "testDf[\"knn_rating\"] = pd.Series(test_result,index=testDf.index)\n",
    "sqrt(mean_squared_error(testDf.rating, testDf.knn_rating))"
   ]
  },
  {
   "cell_type": "code",
   "execution_count": 20,
   "metadata": {
    "collapsed": false
   },
   "outputs": [
    {
     "name": "stdout",
     "output_type": "stream",
     "text": [
      "0.812412057478\n"
     ]
    }
   ],
   "source": [
    "testDf[\"actual_rat_class\"] = 0\n",
    "testDf[\"pred_rat_class\"] = 0\n",
    "\n",
    "for idx in range(0,len(testDf)):\n",
    "    actual_rating = testDf.loc[idx,\"rating\"]\n",
    "    if actual_rating <= 2.0:\n",
    "        testDf.loc[idx,\"actual_rat_class\"] = 1\n",
    "    elif actual_rating <= 3.5:\n",
    "        testDf.loc[idx,\"actual_rat_class\"] = 2\n",
    "    else:\n",
    "        testDf.loc[idx,\"actual_rat_class\"] = 3\n",
    "    \n",
    "    pred_rating = testDf.loc[idx,\"knn_rating\"]\n",
    "    if pred_rating <= 2.0:\n",
    "        testDf.loc[idx,\"pred_rat_class\"] = 1\n",
    "    elif pred_rating <= 3.5:\n",
    "        testDf.loc[idx,\"pred_rat_class\"] = 2\n",
    "    else:\n",
    "        testDf.loc[idx,\"pred_rat_class\"] = 3\n",
    "        \n",
    "print sqrt(mean_squared_error(testDf.actual_rat_class, testDf.pred_rat_class))"
   ]
  },
  {
   "cell_type": "code",
   "execution_count": 21,
   "metadata": {
    "collapsed": false
   },
   "outputs": [
    {
     "data": {
      "text/plain": [
       "0.635404058656387"
      ]
     },
     "execution_count": 21,
     "metadata": {},
     "output_type": "execute_result"
    }
   ],
   "source": [
    "testDf[\"actual_rat_class\"] = 0\n",
    "testDf[\"pred_rat_class\"] = 0\n",
    "\n",
    "for idx in range(0,len(testDf)):\n",
    "    actual_rating = testDf.loc[idx,\"rating\"]\n",
    "    if actual_rating < 3.5:\n",
    "        testDf.loc[idx,\"actual_rat_class\"] = 1\n",
    "    else:\n",
    "        testDf.loc[idx,\"actual_rat_class\"] = 2\n",
    "    \n",
    "    pred_rating = testDf.loc[idx,\"knn_rating\"]\n",
    "    if pred_rating < 3.5:\n",
    "        testDf.loc[idx,\"pred_rat_class\"] = 1\n",
    "    else:\n",
    "        testDf.loc[idx,\"pred_rat_class\"] = 2\n",
    "\n",
    "sqrt(mean_squared_error(testDf.actual_rat_class, testDf.pred_rat_class))"
   ]
  },
  {
   "cell_type": "code",
   "execution_count": 5,
   "metadata": {
    "collapsed": false
   },
   "outputs": [
    {
     "name": "stdout",
     "output_type": "stream",
     "text": [
      "(85119, 3)\n",
      "(14885, 3)\n"
     ]
    }
   ],
   "source": [
    "split = np.random.rand(len(ratings)) < 0.85\n",
    "trainDf = ratings[split]\n",
    "testDf = ratings[~split]\n",
    "print trainDf.shape\n",
    "print testDf.shape"
   ]
  },
  {
   "cell_type": "code",
   "execution_count": 6,
   "metadata": {
    "collapsed": false
   },
   "outputs": [
    {
     "name": "stdout",
     "output_type": "stream",
     "text": [
      "2017-10-03 20:18:01.075244\n"
     ]
    },
    {
     "name": "stderr",
     "output_type": "stream",
     "text": [
      "/Users/suribabu/Projects/Anaconda/lib/python2.7/site-packages/scipy/stats/stats.py:3003: RuntimeWarning: invalid value encountered in double_scalars\n",
      "  r = r_num / r_den\n"
     ]
    },
    {
     "name": "stdout",
     "output_type": "stream",
     "text": [
      "2017-10-03 20:30:52.706791\n"
     ]
    }
   ],
   "source": [
    "print datetime.datetime.now()\n",
    "\n",
    "userIdList = list(ratings.userId.unique())\n",
    "#userIdList = userIdList[:5]\n",
    "simUsersList = []\n",
    "simUserMov = []\n",
    "corrMat = np.empty(shape=(len(userIdList)+1,len(userIdList)+1))\n",
    "corrMat[:,:] = None\n",
    "\n",
    "def getNormalDist(arr):\n",
    "    std = np.std(arr)\n",
    "    mean = np.mean(arr)\n",
    "    if std != 0:\n",
    "        for elem in arr:\n",
    "            elem = (elem - mean)/std\n",
    "    return arr\n",
    "    \n",
    "\n",
    "for user in userIdList:\n",
    "    userMovRat = trainDf[trainDf['userId'] == user]\n",
    "    userMov = set(userMovRat['movieId'])\n",
    "    simUsersList = [i for i in userIdList if i != user]\n",
    "    for simUser in simUsersList:\n",
    "        if np.isnan(corrMat[user][simUser]):\n",
    "            simUserRat = trainDf[trainDf['userId'] == simUser]\n",
    "            simUserMov = set(simUserRat['movieId'])\n",
    "            simMovies = userMov.intersection(simUserMov)\n",
    "            simMovList = list(simMovies)\n",
    "            if len(simMovList) > 1:\n",
    "                userComMov = userMovRat.loc[userMovRat.movieId.isin(simMovList)]\n",
    "                simUserComMov = simUserRat.loc[simUserRat.movieId.isin(simMovList)]\n",
    "                userComMov = userComMov.sort_values(\"movieId\",ascending=True)\n",
    "                simUserComMov = simUserComMov.sort_values(\"movieId\",ascending=True)\n",
    "                corrMat[user,simUser] = pearsonr(getNormalDist(list(userComMov.rating)), getNormalDist(list(simUserComMov.rating)))[0]\n",
    "                corrMat[simUser,user] = corrMat[user,simUser]\n",
    "            else:\n",
    "                corrMat[user,simUser] = 0\n",
    "                \n",
    "                \n",
    "for i in range(1,len(corrMat)):\n",
    "    corrMat[i,i] = 1\n",
    "corrMat[np.isnan(corrMat)] = 0\n",
    "                \n",
    "print datetime.datetime.now()"
   ]
  },
  {
   "cell_type": "code",
   "execution_count": 7,
   "metadata": {
    "collapsed": false
   },
   "outputs": [
    {
     "name": "stdout",
     "output_type": "stream",
     "text": [
      "2017-10-03 20:31:12.116899\n",
      "2017-10-03 21:24:08.229646\n"
     ]
    }
   ],
   "source": [
    "print datetime.datetime.now()\n",
    "\n",
    "testDf = testDf.reset_index(drop=True)\n",
    "testDf[\"pred_rating\"] = 0.00\n",
    "for i in range(len(testDf)):\n",
    "    user_id = testDf.loc[i,\"userId\"]\n",
    "    movie_id = testDf.loc[i,\"movieId\"]\n",
    "    user_similarity = corrMat[user_id,:]\n",
    "    sim_rating_prod = 0.0\n",
    "    total_user_sim = 0.0\n",
    "    for curr_user_id,curr_user_rat in enumerate(user_similarity):\n",
    "        if curr_user_rat >= 0.4:\n",
    "            df = trainDf[(trainDf[\"userId\"] == curr_user_id) & (trainDf[\"movieId\"] == movie_id)]\n",
    "            if df.size > 0:\n",
    "                sim_rating_prod = sim_rating_prod + (curr_user_rat * float(df.rating))\n",
    "                total_user_sim = total_user_sim + curr_user_rat\n",
    "    if total_user_sim > 0:\n",
    "        pred_rating = sim_rating_prod / total_user_sim\n",
    "        testDf.loc[i,\"pred_rating\"] = pred_rating\n",
    "    \n",
    "print datetime.datetime.now()"
   ]
  },
  {
   "cell_type": "code",
   "execution_count": 8,
   "metadata": {
    "collapsed": false
   },
   "outputs": [
    {
     "data": {
      "text/plain": [
       "1.8307220962233783"
      ]
     },
     "execution_count": 8,
     "metadata": {},
     "output_type": "execute_result"
    }
   ],
   "source": [
    "sqrt(mean_squared_error(testDf.rating, testDf.pred_rating))"
   ]
  },
  {
   "cell_type": "code",
   "execution_count": 9,
   "metadata": {
    "collapsed": false
   },
   "outputs": [
    {
     "data": {
      "text/plain": [
       "0.9528346408858249"
      ]
     },
     "execution_count": 9,
     "metadata": {},
     "output_type": "execute_result"
    }
   ],
   "source": [
    "testDf[\"actual_rat_class\"] = 0\n",
    "testDf[\"pred_rat_class\"] = 0\n",
    "\n",
    "for idx in range(0,len(testDf)):\n",
    "    actual_rating = testDf.loc[idx,\"rating\"]\n",
    "    if actual_rating <= 2.0:\n",
    "        testDf.loc[idx,\"actual_rat_class\"] = 1\n",
    "    elif actual_rating <= 3.5:\n",
    "        testDf.loc[idx,\"actual_rat_class\"] = 2\n",
    "    else:\n",
    "        testDf.loc[idx,\"actual_rat_class\"] = 3\n",
    "    \n",
    "    pred_rating = testDf.loc[idx,\"pred_rating\"]\n",
    "    if pred_rating <= 2.0:\n",
    "        testDf.loc[idx,\"pred_rat_class\"] = 1\n",
    "    elif pred_rating <= 3.5:\n",
    "        testDf.loc[idx,\"pred_rat_class\"] = 2\n",
    "    else:\n",
    "        testDf.loc[idx,\"pred_rat_class\"] = 3\n",
    "        \n",
    "sqrt(mean_squared_error(testDf.actual_rat_class, testDf.pred_rat_class))"
   ]
  },
  {
   "cell_type": "code",
   "execution_count": 10,
   "metadata": {
    "collapsed": false
   },
   "outputs": [
    {
     "data": {
      "text/plain": [
       "0.6134753721603082"
      ]
     },
     "execution_count": 10,
     "metadata": {},
     "output_type": "execute_result"
    }
   ],
   "source": [
    "testDf[\"actual_rat_class\"] = 0\n",
    "testDf[\"pred_rat_class\"] = 0\n",
    "\n",
    "for idx in range(0,len(testDf)):\n",
    "    actual_rating = testDf.loc[idx,\"rating\"]\n",
    "    if actual_rating < 3.5:\n",
    "        testDf.loc[idx,\"actual_rat_class\"] = 1\n",
    "    else:\n",
    "        testDf.loc[idx,\"actual_rat_class\"] = 2\n",
    "    \n",
    "    pred_rating = testDf.loc[idx,\"pred_rating\"]\n",
    "    if pred_rating < 3.5:\n",
    "        testDf.loc[idx,\"pred_rat_class\"] = 1\n",
    "    else:\n",
    "        testDf.loc[idx,\"pred_rat_class\"] = 2\n",
    "\n",
    "sqrt(mean_squared_error(testDf.actual_rat_class, testDf.pred_rat_class))"
   ]
  },
  {
   "cell_type": "code",
   "execution_count": 40,
   "metadata": {
    "collapsed": false
   },
   "outputs": [
    {
     "name": "stdout",
     "output_type": "stream",
     "text": [
      "Enter your input:4\n",
      "7353    Fantastic Mr. Fox (2009)\n",
      "Name: title, dtype: object\n",
      "2764    Modern Times (1936)\n",
      "Name: title, dtype: object\n",
      "1034    Raise the Red Lantern (Da hong deng long gao g...\n",
      "Name: title, dtype: object\n",
      "802    Big Night (1996)\n",
      "Name: title, dtype: object\n",
      "4355    Talk to Her (Hable con Ella) (2002)\n",
      "Name: title, dtype: object\n",
      "Enter your input:-9\n"
     ]
    }
   ],
   "source": [
    "while True:\n",
    "    user_id = input('Enter your input:')\n",
    "    if user_id < 0:\n",
    "        break\n",
    "    else:\n",
    "        similar_users = corrMat[user_id,:]\n",
    "        movies_list = set()\n",
    "        filtered_user_sim = [(idx,i) for idx,i in enumerate(similar_users) if i >= 0.4]\n",
    "\n",
    "        for curr_user_rat in filtered_user_sim:\n",
    "            movies_list = movies_list.union(set(ratings[ratings[\"userId\"] == curr_user_rat[0]][\"movieId\"]))\n",
    "        watched_movies = set(ratings[ratings[\"userId\"] == user_id][\"movieId\"])\n",
    "        movies_list = movies_list.difference(watched_movies)\n",
    "\n",
    "        user_sim_df = {}\n",
    "        user_sim_df[\"userId\"] = [i[0] for i in filtered_user_sim]\n",
    "        user_sim_df[\"similarity\"] = [i[1] for i in filtered_user_sim]\n",
    "        user_sim_df = pd.DataFrame(user_sim_df)\n",
    "\n",
    "        recommend_movies = ratings[ratings[\"movieId\"].isin(list(movies_list))]\n",
    "        recommend_movies = pd.merge(recommend_movies,user_sim_df,on=[\"userId\"])\n",
    "        recommend_movies = recommend_movies.reset_index(drop=True)\n",
    "        recommend_movies[\"sim_rat_prod\"] = 0\n",
    "        recommend_movies[\"sim_rat_prod\"] = recommend_movies.apply(lambda x: x[\"similarity\"] * x[\"rating\"],axis=1)\n",
    "        recommend_movies = recommend_movies.groupby([\"movieId\"],as_index=False)['sim_rat_prod'].agg(['mean','count']).reset_index()\n",
    "        recommend_movies = recommend_movies.rename(index=str, columns={\"mean\": \"mean_sim_rat_prod\",\"count\":\"count_sim_rat\"})\n",
    "        recommended_movies_list = list(recommend_movies[recommend_movies['count_sim_rat'] >= 5].sort_values('mean_sim_rat_prod',ascending = False).head(5)['movieId'])\n",
    "\n",
    "        for movieId in recommended_movies_list:\n",
    "            print str(movies[movies[\"movieId\"] == movieId][\"title\"])\n"
   ]
  },
  {
   "cell_type": "code",
   "execution_count": null,
   "metadata": {
    "collapsed": true
   },
   "outputs": [],
   "source": []
  }
 ],
 "metadata": {
  "kernelspec": {
   "display_name": "Python 2",
   "language": "python",
   "name": "python2"
  },
  "language_info": {
   "codemirror_mode": {
    "name": "ipython",
    "version": 2
   },
   "file_extension": ".py",
   "mimetype": "text/x-python",
   "name": "python",
   "nbconvert_exporter": "python",
   "pygments_lexer": "ipython2",
   "version": "2.7.11"
  }
 },
 "nbformat": 4,
 "nbformat_minor": 0
}
